{
 "cells": [
  {
   "cell_type": "markdown",
   "id": "a889dff4",
   "metadata": {},
   "source": [
    "<big>References:\n",
    "\n",
    "Qiskit Operator Module:\n",
    "https://docs.quantum.ibm.com/build/operators-overview\n",
    "\n",
    "Qiskit Statevector Class:\n",
    "https://docs.quantum.ibm.com/api/qiskit/qiskit.quantum_info.Statevector\n",
    "\n",
    "Quantum Fourier Transform:\n",
    "https://github.com/Qiskit/textbook/blob/main/notebooks/ch-algorithms/quantum-fourier-transform.ipynb"
   ]
  },
  {
   "cell_type": "code",
   "execution_count": 1,
   "id": "82d3c0c0",
   "metadata": {},
   "outputs": [],
   "source": [
    "import numpy as np\n",
    "from numpy import pi\n",
    "from qiskit import QuantumCircuit, QuantumRegister, Aer\n",
    "from qiskit_textbook.widgets import scalable_circuit\n",
    "from qiskit.quantum_info.operators import Operator, Pauli\n",
    "from qiskit.quantum_info import Statevector\n",
    "from qiskit.circuit import Gate\n",
    "from qiskit.visualization import array_to_latex"
   ]
  },
  {
   "cell_type": "code",
   "execution_count": 2,
   "id": "e6cf0a98",
   "metadata": {},
   "outputs": [],
   "source": [
    "def qft_rotations(qc,n):\n",
    "    if n == 0: return qc\n",
    "    n -= 1\n",
    "    qc.h(n)\n",
    "    for qb in range(n):\n",
    "        qc.cp(pi/2**(n-qb),qb,n)\n",
    "    qft_rotations(qc,n)"
   ]
  },
  {
   "cell_type": "code",
   "execution_count": 3,
   "id": "bc6250a8",
   "metadata": {},
   "outputs": [],
   "source": [
    "def swap_qb(qc,n):\n",
    "    for qb in range(n//2):\n",
    "        qc.swap(qb,n-1-qb)\n",
    "    return qc    "
   ]
  },
  {
   "cell_type": "markdown",
   "id": "824c9912",
   "metadata": {},
   "source": [
    "<big>Fourier transform function:\n",
    "The input is the number of qubits, and the output is the Fourier transform gate"
   ]
  },
  {
   "cell_type": "code",
   "execution_count": 4,
   "id": "8718fe07",
   "metadata": {},
   "outputs": [],
   "source": [
    "def F(n):\n",
    "    qc = QuantumCircuit(n, name='QFT')\n",
    "    qft_rotations(qc,n)\n",
    "    swap_qb(qc,n)\n",
    "    gate = qc.to_gate()\n",
    "    return gate"
   ]
  },
  {
   "cell_type": "code",
   "execution_count": 27,
   "id": "3c591ea2",
   "metadata": {},
   "outputs": [],
   "source": [
    "n = 3"
   ]
  },
  {
   "cell_type": "markdown",
   "id": "15fc39f6",
   "metadata": {},
   "source": [
    "<big>Method of visualization: visualize the unitary operator of the gate</big>"
   ]
  },
  {
   "cell_type": "code",
   "execution_count": null,
   "id": "52787272",
   "metadata": {},
   "outputs": [],
   "source": [
    "op = Operator(F(n))"
   ]
  },
  {
   "cell_type": "code",
   "execution_count": 8,
   "id": "07d11f2a",
   "metadata": {},
   "outputs": [
    {
     "data": {
      "text/latex": [
       "$$\n",
       "\n",
       "\\begin{bmatrix}\n",
       "\\frac{\\sqrt{2}}{4} & \\frac{\\sqrt{2}}{4} & \\frac{\\sqrt{2}}{4} & \\frac{\\sqrt{2}}{4} & \\frac{\\sqrt{2}}{4} & \\frac{\\sqrt{2}}{4} & \\frac{\\sqrt{2}}{4} & \\frac{\\sqrt{2}}{4}  \\\\\n",
       " \\frac{\\sqrt{2}}{4} & \\frac{1}{4} + \\frac{i}{4} & \\frac{\\sqrt{2} i}{4} & - \\frac{1}{4} + \\frac{i}{4} & - \\frac{\\sqrt{2}}{4} & - \\frac{1}{4} - \\frac{i}{4} & - \\frac{\\sqrt{2} i}{4} & \\frac{1}{4} - \\frac{i}{4}  \\\\\n",
       " \\frac{\\sqrt{2}}{4} & \\frac{\\sqrt{2} i}{4} & - \\frac{\\sqrt{2}}{4} & - \\frac{\\sqrt{2} i}{4} & \\frac{\\sqrt{2}}{4} & \\frac{\\sqrt{2} i}{4} & - \\frac{\\sqrt{2}}{4} & - \\frac{\\sqrt{2} i}{4}  \\\\\n",
       " \\frac{\\sqrt{2}}{4} & - \\frac{1}{4} + \\frac{i}{4} & - \\frac{\\sqrt{2} i}{4} & \\frac{1}{4} + \\frac{i}{4} & - \\frac{\\sqrt{2}}{4} & \\frac{1}{4} - \\frac{i}{4} & \\frac{\\sqrt{2} i}{4} & - \\frac{1}{4} - \\frac{i}{4}  \\\\\n",
       " \\frac{\\sqrt{2}}{4} & - \\frac{\\sqrt{2}}{4} & \\frac{\\sqrt{2}}{4} & - \\frac{\\sqrt{2}}{4} & \\frac{\\sqrt{2}}{4} & - \\frac{\\sqrt{2}}{4} & \\frac{\\sqrt{2}}{4} & - \\frac{\\sqrt{2}}{4}  \\\\\n",
       " \\frac{\\sqrt{2}}{4} & - \\frac{1}{4} - \\frac{i}{4} & \\frac{\\sqrt{2} i}{4} & \\frac{1}{4} - \\frac{i}{4} & - \\frac{\\sqrt{2}}{4} & \\frac{1}{4} + \\frac{i}{4} & - \\frac{\\sqrt{2} i}{4} & - \\frac{1}{4} + \\frac{i}{4}  \\\\\n",
       " \\frac{\\sqrt{2}}{4} & - \\frac{\\sqrt{2} i}{4} & - \\frac{\\sqrt{2}}{4} & \\frac{\\sqrt{2} i}{4} & \\frac{\\sqrt{2}}{4} & - \\frac{\\sqrt{2} i}{4} & - \\frac{\\sqrt{2}}{4} & \\frac{\\sqrt{2} i}{4}  \\\\\n",
       " \\frac{\\sqrt{2}}{4} & \\frac{1}{4} - \\frac{i}{4} & - \\frac{\\sqrt{2} i}{4} & - \\frac{1}{4} - \\frac{i}{4} & - \\frac{\\sqrt{2}}{4} & - \\frac{1}{4} + \\frac{i}{4} & \\frac{\\sqrt{2} i}{4} & \\frac{1}{4} + \\frac{i}{4}  \\\\\n",
       " \\end{bmatrix}\n",
       "$$"
      ],
      "text/plain": [
       "<IPython.core.display.Latex object>"
      ]
     },
     "execution_count": 8,
     "metadata": {},
     "output_type": "execute_result"
    }
   ],
   "source": [
    "array_to_latex(op)"
   ]
  },
  {
   "cell_type": "markdown",
   "id": "45824898",
   "metadata": {},
   "source": [
    "<big>Method of visualization: apply the gate on the input, which by default is $|0..0\\rangle$ "
   ]
  },
  {
   "cell_type": "code",
   "execution_count": 10,
   "id": "2e5bdc0e",
   "metadata": {},
   "outputs": [
    {
     "data": {
      "text/latex": [
       "$$\\frac{\\sqrt{2}}{4} |000\\rangle+\\frac{\\sqrt{2}}{4} |001\\rangle+\\frac{\\sqrt{2}}{4} |010\\rangle+\\frac{\\sqrt{2}}{4} |011\\rangle+\\frac{\\sqrt{2}}{4} |100\\rangle+\\frac{\\sqrt{2}}{4} |101\\rangle+\\frac{\\sqrt{2}}{4} |110\\rangle+\\frac{\\sqrt{2}}{4} |111\\rangle$$"
      ],
      "text/plain": [
       "<IPython.core.display.Latex object>"
      ]
     },
     "execution_count": 10,
     "metadata": {},
     "output_type": "execute_result"
    }
   ],
   "source": [
    "psi = Statevector(F(3))\n",
    "psi.draw('latex')"
   ]
  },
  {
   "cell_type": "markdown",
   "id": "4a4f31e3",
   "metadata": {},
   "source": [
    "<big>Change the default input by initialize"
   ]
  },
  {
   "cell_type": "code",
   "execution_count": 21,
   "id": "6d68b1bb",
   "metadata": {},
   "outputs": [
    {
     "data": {
      "text/latex": [
       "$$ |101\\rangle$$"
      ],
      "text/plain": [
       "<IPython.core.display.Latex object>"
      ]
     },
     "execution_count": 21,
     "metadata": {},
     "output_type": "execute_result"
    }
   ],
   "source": [
    "i = 5\n",
    "init = Statevector.from_int(i,2**n)\n",
    "init.draw(output='latex')"
   ]
  },
  {
   "cell_type": "code",
   "execution_count": 25,
   "id": "c5236c27",
   "metadata": {},
   "outputs": [
    {
     "data": {
      "text/latex": [
       "$$\\frac{\\sqrt{2}}{4} |000\\rangle+(- \\frac{1}{4} - \\frac{i}{4}) |001\\rangle+\\frac{\\sqrt{2} i}{4} |010\\rangle+(\\frac{1}{4} - \\frac{i}{4}) |011\\rangle- \\frac{\\sqrt{2}}{4} |100\\rangle+(\\frac{1}{4} + \\frac{i}{4}) |101\\rangle- \\frac{\\sqrt{2} i}{4} |110\\rangle+(- \\frac{1}{4} + \\frac{i}{4}) |111\\rangle$$"
      ],
      "text/plain": [
       "<IPython.core.display.Latex object>"
      ]
     },
     "execution_count": 25,
     "metadata": {},
     "output_type": "execute_result"
    }
   ],
   "source": [
    "qc = QuantumCircuit(n)\n",
    "qc.initialize(init)\n",
    "qc.append(F(n),range(n))\n",
    "out = Statevector(qc)\n",
    "out.draw('latex')"
   ]
  },
  {
   "cell_type": "code",
   "execution_count": 26,
   "id": "f1587c05",
   "metadata": {},
   "outputs": [
    {
     "data": {
      "text/plain": [
       "{'000': (0.3535533905932737+0j),\n",
       " '001': (-0.24999999999999994-0.24999999999999992j),\n",
       " '010': (2.1648901405887326e-17+0.3535533905932737j),\n",
       " '011': (0.24999999999999992-0.24999999999999994j),\n",
       " '100': (-0.3535533905932737+0j),\n",
       " '101': (0.24999999999999994+0.24999999999999992j),\n",
       " '110': (-2.1648901405887326e-17-0.3535533905932737j),\n",
       " '111': (-0.24999999999999992+0.24999999999999994j)}"
      ]
     },
     "execution_count": 26,
     "metadata": {},
     "output_type": "execute_result"
    }
   ],
   "source": [
    "out.to_dict()"
   ]
  },
  {
   "cell_type": "code",
   "execution_count": 34,
   "id": "42ddc052",
   "metadata": {},
   "outputs": [
    {
     "name": "stdout",
     "output_type": "stream",
     "text": [
      "{'011': (0.7071067811865475+0j), '101': (0.7071067811865475+0j)}\n"
     ]
    }
   ],
   "source": [
    "psi = Statevector(1/np.sqrt(2)*np.array([0,0,0,1,0,1,0,0]))\n",
    "print(psi.to_dict())"
   ]
  },
  {
   "cell_type": "code",
   "execution_count": 35,
   "id": "9ce1700b",
   "metadata": {},
   "outputs": [
    {
     "data": {
      "text/latex": [
       "$$\n",
       "\n",
       "\\begin{bmatrix}\n",
       "\\frac{1}{2} & - \\frac{\\sqrt{2}}{4} & 0 & \\frac{\\sqrt{2}}{4} & - \\frac{1}{2} & \\frac{\\sqrt{2}}{4} & 0 & - \\frac{\\sqrt{2}}{4}  \\\\\n",
       " \\end{bmatrix}\n",
       "$$"
      ],
      "text/plain": [
       "<IPython.core.display.Latex object>"
      ]
     },
     "execution_count": 35,
     "metadata": {},
     "output_type": "execute_result"
    }
   ],
   "source": [
    "qc = QuantumCircuit(n)\n",
    "qc.initialize(psi)\n",
    "qc.append(F(n),range(n))\n",
    "out = Statevector(qc)\n",
    "array_to_latex(out)"
   ]
  },
  {
   "cell_type": "code",
   "execution_count": 36,
   "id": "f9ad4579",
   "metadata": {},
   "outputs": [
    {
     "data": {
      "text/latex": [
       "$$\\frac{1}{2} |000\\rangle- \\frac{\\sqrt{2}}{4} |001\\rangle+\\frac{\\sqrt{2}}{4} |011\\rangle- \\frac{1}{2} |100\\rangle+\\frac{\\sqrt{2}}{4} |101\\rangle- \\frac{\\sqrt{2}}{4} |111\\rangle$$"
      ],
      "text/plain": [
       "<IPython.core.display.Latex object>"
      ]
     },
     "execution_count": 36,
     "metadata": {},
     "output_type": "execute_result"
    }
   ],
   "source": [
    "out.draw('latex')"
   ]
  }
 ],
 "metadata": {
  "kernelspec": {
   "display_name": "Python 3 (ipykernel)",
   "language": "python",
   "name": "python3"
  },
  "language_info": {
   "codemirror_mode": {
    "name": "ipython",
    "version": 3
   },
   "file_extension": ".py",
   "mimetype": "text/x-python",
   "name": "python",
   "nbconvert_exporter": "python",
   "pygments_lexer": "ipython3",
   "version": "3.11.3"
  }
 },
 "nbformat": 4,
 "nbformat_minor": 5
}
