{
 "cells": [
  {
   "cell_type": "code",
   "execution_count": 24,
   "metadata": {},
   "outputs": [],
   "source": [
    "from qiskit import QuantumCircuit, Aer, transpile, assemble\n",
    "import numpy as np\n",
    "from qiskit.visualization import array_to_latex\n",
    "import numpy as np\n",
    "from numpy import pi\n",
    "from qiskit import QuantumCircuit, QuantumRegister, Aer\n",
    "from qiskit.quantum_info.operators import Operator, Pauli\n",
    "from qiskit.quantum_info import Statevector\n",
    "from qiskit.circuit import Gate\n",
    "from qiskit.visualization import array_to_latex"
   ]
  },
  {
   "cell_type": "code",
   "execution_count": 25,
   "metadata": {},
   "outputs": [],
   "source": [
    "def qft_rotations(qc, n):\n",
    "    if n == 0:\n",
    "        return qc\n",
    "    n -= 1\n",
    "    qc.h(n)\n",
    "    for qb in range(n):\n",
    "        qc.cp(pi/2**(n-qb), qb, n)\n",
    "    qft_rotations(qc, n)\n",
    "\n",
    "def swap_qb(qc, n):\n",
    "    for qb in range(n//2):\n",
    "        qc.swap(qb, n-1-qb)\n",
    "    return qc    \n",
    "\n",
    "def F(n):\n",
    "    qc = QuantumCircuit(n, name='QFT')\n",
    "    qft_rotations(qc, n)\n",
    "    swap_qb(qc, n)\n",
    "    gate = qc.to_gate()\n",
    "    return qc"
   ]
  },
  {
   "cell_type": "code",
   "execution_count": 26,
   "metadata": {},
   "outputs": [],
   "source": [
    "def iqft_rotations(qc,n,i):\n",
    "    if i == n-2: \n",
    "        qc.h(i+1)\n",
    "        return qc\n",
    "    i += 1\n",
    "    qc.h(i)\n",
    "    for qb in reversed(range(i+1)):\n",
    "        qc.cp(-np.pi/2**(i+1-qb),qb,i+1)\n",
    "    iqft_rotations(qc,n,i)\n",
    "    \n",
    "def swap_IQFT_qb(n):\n",
    "    qc = QuantumCircuit(n, name='IQFT')\n",
    "    swap_qb(qc,n)\n",
    "    iqft_rotations(qc,n,-1)\n",
    "    return qc"
   ]
  },
  {
   "cell_type": "code",
   "execution_count": 27,
   "metadata": {},
   "outputs": [],
   "source": [
    "n = 3"
   ]
  },
  {
   "cell_type": "code",
   "execution_count": 29,
   "metadata": {},
   "outputs": [],
   "source": [
    "qft_circ = F(n)\n",
    "inv_qft_circ = swap_IQFT_qb(n)\n",
    "test_circ =qft_circ.compose(inv_qft_circ)"
   ]
  },
  {
   "cell_type": "code",
   "execution_count": 30,
   "metadata": {},
   "outputs": [
    {
     "name": "stdout",
     "output_type": "stream",
     "text": [
      "Composed Circuit:\n",
      "                                          ┌───┐      ┌───┐               »\n",
      "q_0: ──────■──────────────────────■───────┤ H ├─X──X─┤ H ├─■─────────────»\n",
      "           │                ┌───┐ │P(π/2) └───┘ │  │ └───┘ │P(-π/2) ┌───┐»\n",
      "q_1: ──────┼────────■───────┤ H ├─■─────────────┼──┼───────■────────┤ H ├»\n",
      "     ┌───┐ │P(π/4)  │P(π/2) └───┘               │  │                └───┘»\n",
      "q_2: ┤ H ├─■────────■───────────────────────────X──X─────────────────────»\n",
      "     └───┘                                                               »\n",
      "«                              \n",
      "«q_0: ───────────■─────────────\n",
      "«                │             \n",
      "«q_1: ─■─────────┼─────────────\n",
      "«      │P(-π/2)  │P(-π/4) ┌───┐\n",
      "«q_2: ─■─────────■────────┤ H ├\n",
      "«                         └───┘\n"
     ]
    }
   ],
   "source": [
    "print(\"Composed Circuit:\")\n",
    "print(test_circ)"
   ]
  },
  {
   "cell_type": "code",
   "execution_count": 31,
   "metadata": {},
   "outputs": [
    {
     "data": {
      "text/latex": [
       "$$\n",
       "\n",
       "\\begin{bmatrix}\n",
       "1 & 0 & 0 & 0 & 0 & 0 & 0 & 0  \\\\\n",
       " 0 & 1 & 0 & 0 & 0 & 0 & 0 & 0  \\\\\n",
       " 0 & 0 & 1 & 0 & 0 & 0 & 0 & 0  \\\\\n",
       " 0 & 0 & 0 & 1 & 0 & 0 & 0 & 0  \\\\\n",
       " 0 & 0 & 0 & 0 & 1 & 0 & 0 & 0  \\\\\n",
       " 0 & 0 & 0 & 0 & 0 & 1 & 0 & 0  \\\\\n",
       " 0 & 0 & 0 & 0 & 0 & 0 & 1 & 0  \\\\\n",
       " 0 & 0 & 0 & 0 & 0 & 0 & 0 & 1  \\\\\n",
       " \\end{bmatrix}\n",
       "$$"
      ],
      "text/plain": [
       "<IPython.core.display.Latex object>"
      ]
     },
     "execution_count": 31,
     "metadata": {},
     "output_type": "execute_result"
    }
   ],
   "source": [
    "array_to_latex(Operator(test_circ.to_gate()))"
   ]
  },
  {
   "cell_type": "code",
   "execution_count": null,
   "metadata": {},
   "outputs": [],
   "source": []
  }
 ],
 "metadata": {
  "kernelspec": {
   "display_name": "Python 3",
   "language": "python",
   "name": "python3"
  },
  "language_info": {
   "codemirror_mode": {
    "name": "ipython",
    "version": 3
   },
   "file_extension": ".py",
   "mimetype": "text/x-python",
   "name": "python",
   "nbconvert_exporter": "python",
   "pygments_lexer": "ipython3",
   "version": "3.11.7"
  }
 },
 "nbformat": 4,
 "nbformat_minor": 2
}
